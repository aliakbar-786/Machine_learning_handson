{
 "cells": [
  {
   "cell_type": "code",
   "execution_count": 1,
   "id": "32cbd14d-1878-49ff-a411-651e3752b70f",
   "metadata": {},
   "outputs": [
    {
     "name": "stdout",
     "output_type": "stream",
     "text": [
      "   amount transaction_type       location card_present  hour  fraud\n",
      "0  375.17              atm  international          yes    12      0\n",
      "1  950.76              pos  international           no    12      0\n",
      "2  732.26              atm       domestic          yes     1      0\n",
      "3  599.06              atm  international          yes     8      0\n",
      "4  156.86           online  international          yes    23      0\n",
      "Accuracy: 0.915\n",
      "Classification Report:\n",
      "               precision    recall  f1-score   support\n",
      "\n",
      "           0       0.92      0.99      0.95       181\n",
      "           1       0.67      0.21      0.32        19\n",
      "\n",
      "    accuracy                           0.92       200\n",
      "   macro avg       0.79      0.60      0.64       200\n",
      "weighted avg       0.90      0.92      0.89       200\n",
      "\n"
     ]
    }
   ],
   "source": [
    "# Step 1: Required libraries import karo\n",
    "import pandas as pd\n",
    "from sklearn.model_selection import train_test_split\n",
    "from sklearn.preprocessing import OneHotEncoder\n",
    "from sklearn.compose import ColumnTransformer\n",
    "from sklearn.pipeline import Pipeline\n",
    "from sklearn.ensemble import RandomForestClassifier\n",
    "from sklearn.metrics import classification_report, accuracy_score\n",
    "\n",
    "# Step 2: Dataset load karo\n",
    "df = pd.read_csv(\"credit_card_fraud.csv\")\n",
    "print(df.head())  # Data preview\n",
    "\n",
    "# Step 3: Features aur target define karo\n",
    "X = df.drop(\"fraud\", axis=1)\n",
    "y = df[\"fraud\"]  # 1 = Fraud, 0 = Legit\n",
    "\n",
    "# Step 4: Categorical aur numeric columns identify karo\n",
    "categorical_cols = [\"transaction_type\", \"location\", \"card_present\"]\n",
    "numeric_cols = [\"amount\", \"hour\"]\n",
    "\n",
    "# Step 5: Preprocessing setup using OneHotEncoder\n",
    "preprocessor = ColumnTransformer(\n",
    "    transformers=[\n",
    "        (\"cat\", OneHotEncoder(handle_unknown='ignore'), categorical_cols)\n",
    "    ],\n",
    "    remainder='passthrough'\n",
    ")\n",
    "\n",
    "# Step 6: Pipeline create karo (encoding + model)\n",
    "pipeline = Pipeline(steps=[\n",
    "    (\"preprocessing\", preprocessor),\n",
    "    (\"classifier\", RandomForestClassifier(random_state=42))\n",
    "])\n",
    "\n",
    "# Step 7: Train/Test split karo\n",
    "X_train, X_test, y_train, y_test = train_test_split(X, y, test_size=0.2, random_state=42)\n",
    "\n",
    "# Step 8: Model ko train karo\n",
    "pipeline.fit(X_train, y_train)\n",
    "\n",
    "# Step 9: Test data par prediction karo\n",
    "y_pred = pipeline.predict(X_test)\n",
    "\n",
    "# Step 10: Model evaluate karo\n",
    "print(\"Accuracy:\", accuracy_score(y_test, y_pred))\n",
    "print(\"Classification Report:\\n\", classification_report(y_test, y_pred))\n"
   ]
  },
  {
   "cell_type": "code",
   "execution_count": null,
   "id": "bf9d4b40-eb9f-4ea5-b34b-37cb199cdaf1",
   "metadata": {},
   "outputs": [],
   "source": []
  }
 ],
 "metadata": {
  "kernelspec": {
   "display_name": "Python 3 (ipykernel)",
   "language": "python",
   "name": "python3"
  },
  "language_info": {
   "codemirror_mode": {
    "name": "ipython",
    "version": 3
   },
   "file_extension": ".py",
   "mimetype": "text/x-python",
   "name": "python",
   "nbconvert_exporter": "python",
   "pygments_lexer": "ipython3",
   "version": "3.12.3"
  }
 },
 "nbformat": 4,
 "nbformat_minor": 5
}
