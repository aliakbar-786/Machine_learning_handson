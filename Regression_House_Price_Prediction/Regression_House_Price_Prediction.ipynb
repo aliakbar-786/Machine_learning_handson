{
 "cells": [
  {
   "cell_type": "code",
   "execution_count": 1,
   "id": "29239a38-fdfb-4cbe-b116-ec67f0dd7d56",
   "metadata": {},
   "outputs": [
    {
     "name": "stdout",
     "output_type": "stream",
     "text": [
      "Mean Squared Error: 5.133145243035358\n",
      "R2 Score: 0.9910294549150839\n"
     ]
    }
   ],
   "source": [
    "# Step 1: Libraries\n",
    "import pandas as pd\n",
    "from sklearn.model_selection import train_test_split\n",
    "from sklearn.linear_model import LinearRegression\n",
    "from sklearn.metrics import mean_squared_error, r2_score\n",
    "\n",
    "# Step 2: Data\n",
    "data = pd.read_csv(\"student_scores.csv\")  # e.g., StudyHours vs Score\n",
    "X = data[[\"Hours\"]]  # Features\n",
    "y = data[\"Scores\"]   # Target\n",
    "\n",
    "# Step 3: Train-Test Split\n",
    "X_train, X_test, y_train, y_test = train_test_split(X, y, test_size=0.2, random_state=42)\n",
    "\n",
    "# Step 4: Model Selection & Training\n",
    "model = LinearRegression()\n",
    "model.fit(X_train, y_train)\n",
    "\n",
    "# Step 5: Prediction\n",
    "y_pred = model.predict(X_test)\n",
    "\n",
    "# Step 6: Evaluation\n",
    "print(\"Mean Squared Error:\", mean_squared_error(y_test, y_pred))\n",
    "print(\"R2 Score:\", r2_score(y_test, y_pred))\n"
   ]
  },
  {
   "cell_type": "code",
   "execution_count": null,
   "id": "d34eb6ac-dcd0-46e8-9828-f2b937f25bd9",
   "metadata": {},
   "outputs": [],
   "source": []
  }
 ],
 "metadata": {
  "kernelspec": {
   "display_name": "Python 3 (ipykernel)",
   "language": "python",
   "name": "python3"
  },
  "language_info": {
   "codemirror_mode": {
    "name": "ipython",
    "version": 3
   },
   "file_extension": ".py",
   "mimetype": "text/x-python",
   "name": "python",
   "nbconvert_exporter": "python",
   "pygments_lexer": "ipython3",
   "version": "3.12.3"
  }
 },
 "nbformat": 4,
 "nbformat_minor": 5
}
