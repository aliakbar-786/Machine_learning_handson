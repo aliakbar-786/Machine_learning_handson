{
 "cells": [
  {
   "cell_type": "code",
   "execution_count": 3,
   "id": "1acd5c40-3a85-4729-a589-3aae0ee34c82",
   "metadata": {},
   "outputs": [
    {
     "name": "stdout",
     "output_type": "stream",
     "text": [
      "   Age  Mileage   Brand  Price\n",
      "0    1     5000  Toyota  15000\n",
      "1    2    15000   Honda  14000\n",
      "2    3    25000     BMW  30000\n",
      "3    4    30000    Ford  12000\n",
      "4    5    35000  Nissan  11000\n",
      "Mean Squared Error (MSE): 731426.7716784774\n",
      "R2 Score: 0.9826080820472753\n"
     ]
    }
   ],
   "source": [
    "# Step 1: Libraries import karo\n",
    "import pandas as pd\n",
    "from sklearn.model_selection import train_test_split\n",
    "from sklearn.linear_model import LinearRegression\n",
    "from sklearn.preprocessing import OneHotEncoder\n",
    "from sklearn.compose import ColumnTransformer\n",
    "from sklearn.pipeline import Pipeline\n",
    "from sklearn.metrics import mean_squared_error, r2_score\n",
    "\n",
    "# Step 2: Dataset load karo\n",
    "df = pd.read_csv(\"car_prices.csv\")\n",
    "print(df.head())\n",
    "\n",
    "# Step 3: Features aur target define karo\n",
    "X = df[[\"Age\", \"Mileage\", \"Brand\"]]  # Input columns\n",
    "y = df[\"Price\"]                      # Target column (Price)\n",
    "\n",
    "# Step 4: Brand (categorical) ko encode karna hai\n",
    "# OneHotEncoder ka use karenge pipeline ke through\n",
    "categorical_features = [\"Brand\"]\n",
    "numeric_features = [\"Age\", \"Mileage\"]\n",
    "\n",
    "# Step 5: Column transformer define karo for encoding\n",
    "preprocessor = ColumnTransformer(\n",
    "    transformers=[\n",
    "        (\"cat\", OneHotEncoder(), categorical_features)\n",
    "    ],\n",
    "    remainder='passthrough'  # numeric features ko as-it-is rakhna\n",
    ")\n",
    "\n",
    "# Step 6: Pipeline banayein (encoding + model training)\n",
    "pipeline = Pipeline(steps=[\n",
    "    (\"preprocess\", preprocessor),\n",
    "    (\"model\", LinearRegression())\n",
    "])\n",
    "\n",
    "# Step 7: Train-test split\n",
    "X_train, X_test, y_train, y_test = train_test_split(X, y, test_size=0.2, random_state=42)\n",
    "\n",
    "# Step 8: Model train karo\n",
    "pipeline.fit(X_train, y_train)\n",
    "\n",
    "# Step 9: Predict karo\n",
    "y_pred = pipeline.predict(X_test)\n",
    "\n",
    "# Step 10: Evaluation (Regression ke liye)\n",
    "print(\"Mean Squared Error (MSE):\", mean_squared_error(y_test, y_pred))\n",
    "print(\"R2 Score:\", r2_score(y_test, y_pred))\n"
   ]
  },
  {
   "cell_type": "code",
   "execution_count": null,
   "id": "19804f0c-d10d-4cd2-b5cd-8b7253e5e0dc",
   "metadata": {},
   "outputs": [],
   "source": []
  }
 ],
 "metadata": {
  "kernelspec": {
   "display_name": "Python 3 (ipykernel)",
   "language": "python",
   "name": "python3"
  },
  "language_info": {
   "codemirror_mode": {
    "name": "ipython",
    "version": 3
   },
   "file_extension": ".py",
   "mimetype": "text/x-python",
   "name": "python",
   "nbconvert_exporter": "python",
   "pygments_lexer": "ipython3",
   "version": "3.12.3"
  }
 },
 "nbformat": 4,
 "nbformat_minor": 5
}
