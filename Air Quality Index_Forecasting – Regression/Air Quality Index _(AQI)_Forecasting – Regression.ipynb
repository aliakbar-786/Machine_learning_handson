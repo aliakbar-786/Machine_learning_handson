{
 "cells": [
  {
   "cell_type": "code",
   "execution_count": 1,
   "id": "136da7ec-4fc8-4b65-930b-41f42e197b43",
   "metadata": {},
   "outputs": [
    {
     "name": "stdout",
     "output_type": "stream",
     "text": [
      "    PM2.5    PM10    NO2    SO2    CO     O3     AQI\n",
      "0   62.44   25.66  53.15   4.48  0.35  72.83   41.21\n",
      "1  143.10  134.55  11.31  27.51  2.27  58.25  128.42\n",
      "2  112.48   76.58  17.12  27.95  1.31  37.86   91.84\n",
      "3   93.81  111.54  72.39  32.60  2.08  83.24  105.74\n",
      "4   31.84  183.36  50.48  36.85  0.87  71.63   73.59\n",
      "Mean Squared Error (MSE): 98.22355808828135\n",
      "R2 Score (Accuracy jesa): 0.8896826658725558\n",
      "Actual AQI: 79.09\n",
      "Predicted AQI: 85.9362685733582\n"
     ]
    }
   ],
   "source": [
    "# Step 1: Required libraries import karo\n",
    "import pandas as pd\n",
    "from sklearn.model_selection import train_test_split\n",
    "from sklearn.linear_model import LinearRegression\n",
    "from sklearn.metrics import mean_squared_error, r2_score\n",
    "\n",
    "# Step 2: Dataset load karo (make sure air_quality.csv aap ke paas hai)\n",
    "df = pd.read_csv(\"air_quality.csv\")\n",
    "print(df.head())  # Pehle 5 records dekh lo\n",
    "\n",
    "# Step 3: Features aur target column define karo\n",
    "X = df[[\"PM2.5\", \"PM10\", \"NO2\", \"SO2\", \"CO\", \"O3\"]]  # Independent features\n",
    "y = df[\"AQI\"]  # Target variable\n",
    "\n",
    "# Step 4: Train/Test data split karo (80% training, 20% testing)\n",
    "X_train, X_test, y_train, y_test = train_test_split(X, y, test_size=0.2, random_state=42)\n",
    "\n",
    "# Step 5: Model select karo (Linear Regression use kar rahe hain)\n",
    "model = LinearRegression()\n",
    "\n",
    "# Step 6: Model train karo\n",
    "model.fit(X_train, y_train)\n",
    "\n",
    "# Step 7: Model se prediction karo\n",
    "y_pred = model.predict(X_test)\n",
    "\n",
    "# Step 8: Model evaluation karo (Regression ke standard metrics)\n",
    "print(\"Mean Squared Error (MSE):\", mean_squared_error(y_test, y_pred))\n",
    "print(\"R2 Score (Accuracy jesa):\", r2_score(y_test, y_pred))\n",
    "\n",
    "# Step 9 (Optional): Kisi ek prediction ko print karo\n",
    "print(\"Actual AQI:\", y_test.values[0])\n",
    "print(\"Predicted AQI:\", y_pred[0])\n"
   ]
  },
  {
   "cell_type": "code",
   "execution_count": null,
   "id": "b98142b5-9681-4b88-920f-2811fe3c3984",
   "metadata": {},
   "outputs": [],
   "source": []
  }
 ],
 "metadata": {
  "kernelspec": {
   "display_name": "Python 3 (ipykernel)",
   "language": "python",
   "name": "python3"
  },
  "language_info": {
   "codemirror_mode": {
    "name": "ipython",
    "version": 3
   },
   "file_extension": ".py",
   "mimetype": "text/x-python",
   "name": "python",
   "nbconvert_exporter": "python",
   "pygments_lexer": "ipython3",
   "version": "3.12.3"
  }
 },
 "nbformat": 4,
 "nbformat_minor": 5
}
