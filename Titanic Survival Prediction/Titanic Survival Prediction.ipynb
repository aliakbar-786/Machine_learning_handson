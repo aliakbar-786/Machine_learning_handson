{
 "cells": [
  {
   "cell_type": "code",
   "execution_count": 1,
   "id": "ebda7233-cd2b-42c3-b7ed-3d6ca5c220ca",
   "metadata": {},
   "outputs": [
    {
     "name": "stdout",
     "output_type": "stream",
     "text": [
      "Accuracy: 0.7972027972027972\n",
      "Classification Report:\n",
      "               precision    recall  f1-score   support\n",
      "\n",
      "           0       0.83      0.84      0.83        87\n",
      "           1       0.75      0.73      0.74        56\n",
      "\n",
      "    accuracy                           0.80       143\n",
      "   macro avg       0.79      0.79      0.79       143\n",
      "weighted avg       0.80      0.80      0.80       143\n",
      "\n"
     ]
    }
   ],
   "source": [
    "# Step 1: Libraries import karo\n",
    "import pandas as pd\n",
    "from sklearn.model_selection import train_test_split\n",
    "from sklearn.ensemble import RandomForestClassifier\n",
    "from sklearn.preprocessing import LabelEncoder\n",
    "from sklearn.metrics import accuracy_score, classification_report\n",
    "\n",
    "# Step 2: Titanic dataset load karo\n",
    "df = pd.read_csv(\"titanic.csv\")\n",
    "\n",
    "# Step 3: Useful columns select karo aur missing values handle karo\n",
    "df = df[[\"Pclass\", \"Sex\", \"Age\", \"SibSp\", \"Parch\", \"Fare\", \"Survived\"]]\n",
    "df.dropna(inplace=True)\n",
    "\"\"\"\n",
    "🔍 Kab kya use karein?\n",
    "Encoder\tKab Use Karein\tExample\n",
    "LabelEncoder\tJab 2 categories hon (male/female, yes/no)\tSex, Survived\n",
    "OneHotEncoder\tJab 3 ya zyada categories hon aur order ka matlab na ho\tCity, Color, Department\n",
    "\"\"\"\n",
    "# Step 4: Categorical column (Sex) encode karo\n",
    "df[\"Sex\"] = LabelEncoder().fit_transform(df[\"Sex\"])  # male=1, female=0\n",
    "\n",
    "# Step 5: Features aur target define karo\n",
    "X = df.drop(\"Survived\", axis=1)\n",
    "y = df[\"Survived\"]\n",
    "\n",
    "\"\"\"\n",
    "🔷 axis=1 ka matlab kya hota hai?\n",
    "Python (aur especially Pandas) mein:\n",
    "\n",
    "Axis\tMatlab\n",
    "axis=0\tRow-wise operation (upar se neechay)\n",
    "axis=1\tColumn-wise operation (daayn se baayn)\n",
    "\n",
    "\"\"\"\n",
    "\n",
    "# Step 6: Train/Test split\n",
    "X_train, X_test, y_train, y_test = train_test_split(X, y, test_size=0.2, random_state=42)\n",
    "\n",
    "# Step 7: Model train karo\n",
    "model = RandomForestClassifier(random_state=42)\n",
    "model.fit(X_train, y_train)\n",
    "\n",
    "# Step 8: Prediction & evaluation\n",
    "y_pred = model.predict(X_test)\n",
    "print(\"Accuracy:\", accuracy_score(y_test, y_pred))\n",
    "print(\"Classification Report:\\n\", classification_report(y_test, y_pred))\n"
   ]
  },
  {
   "cell_type": "code",
   "execution_count": null,
   "id": "2789607f-7269-4cec-a2fd-d165cb44a28f",
   "metadata": {},
   "outputs": [],
   "source": []
  }
 ],
 "metadata": {
  "kernelspec": {
   "display_name": "Python 3 (ipykernel)",
   "language": "python",
   "name": "python3"
  },
  "language_info": {
   "codemirror_mode": {
    "name": "ipython",
    "version": 3
   },
   "file_extension": ".py",
   "mimetype": "text/x-python",
   "name": "python",
   "nbconvert_exporter": "python",
   "pygments_lexer": "ipython3",
   "version": "3.12.3"
  }
 },
 "nbformat": 4,
 "nbformat_minor": 5
}
