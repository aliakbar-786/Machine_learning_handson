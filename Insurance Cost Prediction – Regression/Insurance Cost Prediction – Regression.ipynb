{
 "cells": [
  {
   "cell_type": "code",
   "execution_count": 1,
   "id": "4e95f0c1-d5d2-464a-aca4-05b5a0881367",
   "metadata": {},
   "outputs": [
    {
     "name": "stdout",
     "output_type": "stream",
     "text": [
      "   age     sex   bmi  children smoker     region   charges\n",
      "0   56  female  23.9         3     no  southwest  11997.92\n",
      "1   46  female  37.7         2    yes  southwest  22693.81\n",
      "2   32    male  21.8         2    yes  southeast  24054.64\n",
      "3   60    male  31.2         4     no  southwest  16500.45\n",
      "4   25    male  15.0         2    yes  southwest  14915.91\n",
      "Mean Squared Error (MSE): 6161106.570622658\n",
      "R2 Score (Model ki accuracy jesa): 0.8059066628105519\n",
      "Actual Charges: 6751.75\n",
      "Predicted Charges: 11087.76\n"
     ]
    }
   ],
   "source": [
    "# Step 1: Required libraries import karo\n",
    "import pandas as pd\n",
    "from sklearn.model_selection import train_test_split\n",
    "from sklearn.linear_model import LinearRegression\n",
    "from sklearn.preprocessing import OneHotEncoder\n",
    "from sklearn.compose import ColumnTransformer\n",
    "from sklearn.pipeline import Pipeline\n",
    "from sklearn.metrics import mean_squared_error, r2_score\n",
    "\n",
    "# Step 2: CSV file load karo\n",
    "df = pd.read_csv(\"insurance.csv\")\n",
    "print(df.head())  # Dataset ka preview\n",
    "\n",
    "# Step 3: Features aur target define karo\n",
    "X = df[[\"age\", \"sex\", \"bmi\", \"children\", \"smoker\", \"region\"]]  # Inputs\n",
    "y = df[\"charges\"]  # Target variable (insurance charges)\n",
    "\n",
    "# Step 4: Categorical columns identify karo\n",
    "categorical_cols = [\"sex\", \"smoker\", \"region\"]\n",
    "numeric_cols = [\"age\", \"bmi\", \"children\"]\n",
    "\n",
    "# Step 5: Preprocessing (categorical columns encode karo using OneHotEncoder)\n",
    "preprocessor = ColumnTransformer(\n",
    "    transformers=[\n",
    "        (\"cat\", OneHotEncoder(), categorical_cols)\n",
    "    ],\n",
    "    remainder='passthrough'  # numeric columns unchanged rahenge\n",
    ")\n",
    "\n",
    "# Step 6: Pipeline banayein (preprocessing + model)\n",
    "pipeline = Pipeline(steps=[\n",
    "    (\"preprocessing\", preprocessor),\n",
    "    (\"regressor\", LinearRegression())\n",
    "])\n",
    "\n",
    "# Step 7: Train/Test split karo\n",
    "X_train, X_test, y_train, y_test = train_test_split(X, y, test_size=0.2, random_state=42)\n",
    "\n",
    "# Step 8: Model ko train karo\n",
    "pipeline.fit(X_train, y_train)\n",
    "\n",
    "# Step 9: Predict karo test data par\n",
    "y_pred = pipeline.predict(X_test)\n",
    "\n",
    "# Step 10: Evaluate model performance\n",
    "print(\"Mean Squared Error (MSE):\", mean_squared_error(y_test, y_pred))\n",
    "print(\"R2 Score (Model ki accuracy jesa):\", r2_score(y_test, y_pred))\n",
    "\n",
    "# Step 11 (Optional): Kisi ek record ka actual vs predicted charges dekho\n",
    "print(\"Actual Charges:\", y_test.values[0])\n",
    "print(\"Predicted Charges:\", round(y_pred[0], 2))\n"
   ]
  },
  {
   "cell_type": "code",
   "execution_count": null,
   "id": "9298910d-7c83-4243-a1dd-8253fadb4776",
   "metadata": {},
   "outputs": [],
   "source": []
  }
 ],
 "metadata": {
  "kernelspec": {
   "display_name": "Python 3 (ipykernel)",
   "language": "python",
   "name": "python3"
  },
  "language_info": {
   "codemirror_mode": {
    "name": "ipython",
    "version": 3
   },
   "file_extension": ".py",
   "mimetype": "text/x-python",
   "name": "python",
   "nbconvert_exporter": "python",
   "pygments_lexer": "ipython3",
   "version": "3.12.3"
  }
 },
 "nbformat": 4,
 "nbformat_minor": 5
}
