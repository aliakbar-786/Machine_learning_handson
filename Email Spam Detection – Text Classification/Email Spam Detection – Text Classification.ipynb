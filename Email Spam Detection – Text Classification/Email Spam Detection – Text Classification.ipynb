{
 "cells": [
  {
   "cell_type": "code",
   "execution_count": 1,
   "id": "2f04ec2c-3eec-40e5-9a22-bc430c5a90e7",
   "metadata": {},
   "outputs": [
    {
     "name": "stdout",
     "output_type": "stream",
     "text": [
      "Accuracy: 0.75\n",
      "Classification Report:\n",
      "               precision    recall  f1-score   support\n",
      "\n",
      "         ham       1.00      0.50      0.67         2\n",
      "        spam       0.67      1.00      0.80         2\n",
      "\n",
      "    accuracy                           0.75         4\n",
      "   macro avg       0.83      0.75      0.73         4\n",
      "weighted avg       0.83      0.75      0.73         4\n",
      "\n"
     ]
    }
   ],
   "source": [
    "# Step 1: Import libraries\n",
    "import pandas as pd\n",
    "from sklearn.model_selection import train_test_split\n",
    "from sklearn.feature_extraction.text import TfidfVectorizer\n",
    "from sklearn.naive_bayes import MultinomialNB\n",
    "from sklearn.metrics import classification_report, accuracy_score\n",
    "\n",
    "# Step 2: Sample data banayein (ya CSV load karen agar available ho)\n",
    "data = {\n",
    "    \"text\": [\n",
    "        \"Win money now!\", \"Your account is suspended\", \"Limited time offer\", \"Free vacation\", \"Cheap meds online\",\n",
    "        \"Congratulations, you've won!\", \"Urgent: action required\", \"Claim your prize\", \"You've been selected\", \"Act now!\",\n",
    "        \"Hi, how are you?\", \"Meeting tomorrow at 10\", \"Can we reschedule?\", \"Lunch today?\", \"Please find attached report\",\n",
    "        \"Thank you for your help\", \"Let’s connect this week\", \"Team update attached\", \"Following up on our call\", \"Invoice for review\"\n",
    "    ],\n",
    "    \"label\": [\n",
    "        \"spam\", \"spam\", \"spam\", \"spam\", \"spam\",\n",
    "        \"spam\", \"spam\", \"spam\", \"spam\", \"spam\",\n",
    "        \"ham\", \"ham\", \"ham\", \"ham\", \"ham\",\n",
    "        \"ham\", \"ham\", \"ham\", \"ham\", \"ham\"\n",
    "    ]\n",
    "}\n",
    "\n",
    "df = pd.DataFrame(data)\n",
    "\n",
    "# Step 3: Text ko vector mein convert karo (TF-IDF)\n",
    "vectorizer = TfidfVectorizer()\n",
    "X = vectorizer.fit_transform(df[\"text\"])\n",
    "y = df[\"label\"]\n",
    "\"\"\"\n",
    "🤔 Kya hota hai \"Vector\"?\n",
    "Text = string = model samajh nahi sakta\n",
    "\n",
    "Vector = numbers = model samajh sakta hai\n",
    "\n",
    "TF-IDF Vectorizer text ko numbers mein convert karta hai:\n",
    "\n",
    "Har word ka importance/weight nikalta hai.\n",
    "\n",
    "Jo word har jagah repeat ho raha ho, uska weight kam hota hai.\n",
    "\n",
    "Jo rare aur useful ho, uska weight zyada hota hai.\n",
    "\"\"\"\n",
    "# Step 4: Train-test split\n",
    "X_train, X_test, y_train, y_test = train_test_split(X, y, test_size=0.2, random_state=42)\n",
    "\n",
    "# Step 5: Naive Bayes model train karo\n",
    "model = MultinomialNB()\n",
    "model.fit(X_train, y_train)\n",
    "\n",
    "# Step 6: Predict karo aur evaluate karo\n",
    "y_pred = model.predict(X_test)\n",
    "print(\"Accuracy:\", accuracy_score(y_test, y_pred))\n",
    "print(\"Classification Report:\\n\", classification_report(y_test, y_pred))\n"
   ]
  },
  {
   "cell_type": "code",
   "execution_count": null,
   "id": "ce57ef3f-8fa2-4e9c-b862-d7be6de140ba",
   "metadata": {},
   "outputs": [],
   "source": []
  }
 ],
 "metadata": {
  "kernelspec": {
   "display_name": "Python 3 (ipykernel)",
   "language": "python",
   "name": "python3"
  },
  "language_info": {
   "codemirror_mode": {
    "name": "ipython",
    "version": 3
   },
   "file_extension": ".py",
   "mimetype": "text/x-python",
   "name": "python",
   "nbconvert_exporter": "python",
   "pygments_lexer": "ipython3",
   "version": "3.12.3"
  }
 },
 "nbformat": 4,
 "nbformat_minor": 5
}
