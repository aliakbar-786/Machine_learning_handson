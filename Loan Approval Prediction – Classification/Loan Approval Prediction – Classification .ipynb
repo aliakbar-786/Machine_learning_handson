{
 "cells": [
  {
   "cell_type": "code",
   "execution_count": 1,
   "id": "05b6cc18-5008-4376-96fe-47f31891688a",
   "metadata": {},
   "outputs": [
    {
     "name": "stdout",
     "output_type": "stream",
     "text": [
      "   Gender Married Dependents     Education Self_Employed  ApplicantIncome  \\\n",
      "0    Male     Yes          2      Graduate            No             2190   \n",
      "1  Female      No         3+      Graduate            No            12492   \n",
      "2    Male      No          2      Graduate           Yes             2980   \n",
      "3    Male      No          0  Not Graduate           Yes             4975   \n",
      "4    Male      No         3+  Not Graduate            No             8102   \n",
      "\n",
      "   CoapplicantIncome  LoanAmount  Loan_Amount_Term  Credit_History  \\\n",
      "0            1994.10         502               240             1.0   \n",
      "1            2167.60         175               360             0.0   \n",
      "2            3720.21         364               180             1.0   \n",
      "3            1254.30         554               360             0.0   \n",
      "4             921.67         383               180             1.0   \n",
      "\n",
      "  Property_Area Loan_Status  \n",
      "0     Semiurban           N  \n",
      "1         Urban           N  \n",
      "2         Rural           N  \n",
      "3         Urban           N  \n",
      "4     Semiurban           Y  \n",
      "Accuracy: 0.9\n",
      "Classification Report:\n",
      "               precision    recall  f1-score   support\n",
      "\n",
      "           N       1.00      0.50      0.67         4\n",
      "           Y       0.89      1.00      0.94        16\n",
      "\n",
      "    accuracy                           0.90        20\n",
      "   macro avg       0.94      0.75      0.80        20\n",
      "weighted avg       0.91      0.90      0.89        20\n",
      "\n"
     ]
    }
   ],
   "source": [
    "# Step 1: Required libraries import karo\n",
    "import pandas as pd\n",
    "from sklearn.model_selection import train_test_split\n",
    "from sklearn.preprocessing import OneHotEncoder\n",
    "from sklearn.compose import ColumnTransformer\n",
    "from sklearn.pipeline import Pipeline\n",
    "from sklearn.ensemble import RandomForestClassifier\n",
    "from sklearn.metrics import classification_report, accuracy_score\n",
    "\n",
    "# Step 2: Dataset load karo\n",
    "df = pd.read_csv(\"loan_approval.csv\")\n",
    "print(df.head())\n",
    "\n",
    "# Step 3: Features aur target define karo\n",
    "X = df.drop(\"Loan_Status\", axis=1)\n",
    "y = df[\"Loan_Status\"]  # Target column (Y = Approved, N = Not Approved)\n",
    "\n",
    "# Step 4: Identify categorical columns\n",
    "categorical_cols = [\"Gender\", \"Married\", \"Dependents\", \"Education\", \"Self_Employed\", \"Property_Area\"]\n",
    "numeric_cols = [\"ApplicantIncome\", \"CoapplicantIncome\", \"LoanAmount\", \"Loan_Amount_Term\", \"Credit_History\"]\n",
    "\n",
    "# Step 5: Encoding pipeline for categorical features\n",
    "preprocessor = ColumnTransformer(\n",
    "    transformers=[\n",
    "        (\"cat\", OneHotEncoder(handle_unknown='ignore'), categorical_cols)\n",
    "    ],\n",
    "    remainder=\"passthrough\"  # numeric columns ko as-is rakhna\n",
    ")\n",
    "\n",
    "# Step 6: Full pipeline with model\n",
    "pipeline = Pipeline(steps=[\n",
    "    (\"preprocessing\", preprocessor),\n",
    "    (\"classifier\", RandomForestClassifier(random_state=42))\n",
    "])\n",
    "\n",
    "# Step 7: Train-test split\n",
    "X_train, X_test, y_train, y_test = train_test_split(X, y, test_size=0.2, random_state=42)\n",
    "\n",
    "# Step 8: Train model\n",
    "pipeline.fit(X_train, y_train)\n",
    "\n",
    "# Step 9: Predict test set\n",
    "y_pred = pipeline.predict(X_test)\n",
    "\n",
    "# Step 10: Evaluate model\n",
    "print(\"Accuracy:\", accuracy_score(y_test, y_pred))\n",
    "print(\"Classification Report:\\n\", classification_report(y_test, y_pred))\n"
   ]
  },
  {
   "cell_type": "code",
   "execution_count": null,
   "id": "0973b2f9-0bd1-4e85-afc4-dc79e9866ae4",
   "metadata": {},
   "outputs": [],
   "source": []
  }
 ],
 "metadata": {
  "kernelspec": {
   "display_name": "Python 3 (ipykernel)",
   "language": "python",
   "name": "python3"
  },
  "language_info": {
   "codemirror_mode": {
    "name": "ipython",
    "version": 3
   },
   "file_extension": ".py",
   "mimetype": "text/x-python",
   "name": "python",
   "nbconvert_exporter": "python",
   "pygments_lexer": "ipython3",
   "version": "3.12.3"
  }
 },
 "nbformat": 4,
 "nbformat_minor": 5
}
